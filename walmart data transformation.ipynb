{
 "cells": [
  {
   "cell_type": "code",
   "execution_count": 0,
   "metadata": {
    "application/vnd.databricks.v1+cell": {
     "cellMetadata": {
      "byteLimit": 2048000,
      "rowLimit": 10000
     },
     "inputWidgets": {},
     "nuid": "9f15c928-1527-482d-8fa2-f0151475b28b",
     "showTitle": false,
     "tableResultSettingsMap": {},
     "title": ""
    }
   },
   "outputs": [],
   "source": [
    "configs = {\"fs.azure.account.auth.type\": \"OAuth\", \n",
    "           \"fs.azure.account.oauth.provider.type\": \"org.apache.hadoop.fs.azurebfs.oauth2.ClientCredsTokenProvider\", \n",
    "           \"fs.azure.account.oauth2.client.id\": \"Application (client) ID\", #fill with Application (client) ID\n",
    "           \"fs.azure.account.oauth2.client.secret\": 'secret key', # fill with secret key\n",
    "           \"fs.azure.account.oauth2.client.endpoint\": \"https://login.microsoftonline.com/Directory (tenant) ID/oauth2/token\"} # fill with Directory (tenant) ID\n",
    "\n",
    "\n",
    "dbutils.fs.mount(\n",
    "source = \"abfss://walmart-data@walmartdatavidit.dfs.core.windows.net\", # contrainer@storageacc\n",
    "mount_point = \"/mnt/walmartdata\",\n",
    "extra_configs = configs)"
   ]
  },
  {
   "cell_type": "code",
   "execution_count": 0,
   "metadata": {
    "application/vnd.databricks.v1+cell": {
     "cellMetadata": {
      "byteLimit": 2048000,
      "rowLimit": 10000
     },
     "inputWidgets": {},
     "nuid": "fc224b33-31eb-47ba-bdad-4901d9e06a45",
     "showTitle": false,
     "tableResultSettingsMap": {},
     "title": ""
    }
   },
   "outputs": [
    {
     "data": {
      "text/html": [
       "<style scoped>\n",
       "  .table-result-container {\n",
       "    max-height: 300px;\n",
       "    overflow: auto;\n",
       "  }\n",
       "  table, th, td {\n",
       "    border: 1px solid black;\n",
       "    border-collapse: collapse;\n",
       "  }\n",
       "  th, td {\n",
       "    padding: 5px;\n",
       "  }\n",
       "  th {\n",
       "    text-align: left;\n",
       "  }\n",
       "</style><div class='table-result-container'><table class='table-result'><thead style='background-color: white'><tr><th>path</th><th>name</th><th>size</th><th>modificationTime</th></tr></thead><tbody><tr><td>dbfs:/mnt/walmartdata/raw-data/</td><td>raw-data/</td><td>0</td><td>1738814961000</td></tr><tr><td>dbfs:/mnt/walmartdata/transformed-data/</td><td>transformed-data/</td><td>0</td><td>1738814980000</td></tr></tbody></table></div>"
      ]
     },
     "metadata": {
      "application/vnd.databricks.v1+output": {
       "addedWidgets": {},
       "aggData": [],
       "aggError": "",
       "aggOverflow": false,
       "aggSchema": [],
       "aggSeriesLimitReached": false,
       "aggType": "",
       "arguments": {},
       "columnCustomDisplayInfos": {},
       "data": [
        [
         "dbfs:/mnt/walmartdata/raw-data/",
         "raw-data/",
         0,
         1738814961000
        ],
        [
         "dbfs:/mnt/walmartdata/transformed-data/",
         "transformed-data/",
         0,
         1738814980000
        ]
       ],
       "datasetInfos": [],
       "dbfsResultPath": null,
       "isJsonSchema": true,
       "metadata": {
        "isDbfsCommandResult": false
       },
       "overflow": false,
       "plotOptions": {
        "customPlotOptions": {},
        "displayType": "table",
        "pivotAggregation": null,
        "pivotColumns": null,
        "xColumns": null,
        "yColumns": null
       },
       "removedWidgets": [],
       "schema": [
        {
         "metadata": "{}",
         "name": "path",
         "type": "\"string\""
        },
        {
         "metadata": "{}",
         "name": "name",
         "type": "\"string\""
        },
        {
         "metadata": "{}",
         "name": "size",
         "type": "\"long\""
        },
        {
         "metadata": "{}",
         "name": "modificationTime",
         "type": "\"long\""
        }
       ],
       "type": "table"
      }
     },
     "output_type": "display_data"
    }
   ],
   "source": [
    "%fs\n",
    "ls \"/mnt/walmartdata\""
   ]
  },
  {
   "cell_type": "code",
   "execution_count": 0,
   "metadata": {
    "application/vnd.databricks.v1+cell": {
     "cellMetadata": {
      "byteLimit": 2048000,
      "rowLimit": 10000
     },
     "inputWidgets": {},
     "nuid": "146f0dd3-cfa7-45db-b7df-31d8019d618f",
     "showTitle": false,
     "tableResultSettingsMap": {},
     "title": ""
    }
   },
   "outputs": [
    {
     "data": {
      "text/html": [
       "\n",
       "            <div>\n",
       "                <p><b>SparkSession - hive</b></p>\n",
       "                \n",
       "        <div>\n",
       "            <p><b>SparkContext</b></p>\n",
       "\n",
       "            <p><a href=\"/?o=1019191119985245#setting/sparkui/0206-052838-19cnfvpv/driver-1106999113394357701\">Spark UI</a></p>\n",
       "\n",
       "            <dl>\n",
       "              <dt>Version</dt>\n",
       "                <dd><code>v3.5.0</code></dd>\n",
       "              <dt>Master</dt>\n",
       "                <dd><code>local[*, 4]</code></dd>\n",
       "              <dt>AppName</dt>\n",
       "                <dd><code>Databricks Shell</code></dd>\n",
       "            </dl>\n",
       "        </div>\n",
       "        \n",
       "            </div>\n",
       "        "
      ],
      "text/plain": [
       "<pyspark.sql.session.SparkSession at 0x7ff01b7e5090>"
      ]
     },
     "execution_count": 32,
     "metadata": {},
     "output_type": "execute_result"
    }
   ],
   "source": [
    "from pyspark.sql import SparkSession\n",
    "from pyspark.sql.functions import *\n",
    "from pyspark.sql.window import *\n",
    "from pyspark.sql.functions import avg, max, min, count\n",
    "spark"
   ]
  },
  {
   "cell_type": "code",
   "execution_count": 0,
   "metadata": {
    "application/vnd.databricks.v1+cell": {
     "cellMetadata": {
      "byteLimit": 2048000,
      "rowLimit": 10000
     },
     "inputWidgets": {},
     "nuid": "5dc2d60e-8a12-4ac7-a8fd-ee668109ecca",
     "showTitle": false,
     "tableResultSettingsMap": {},
     "title": ""
    }
   },
   "outputs": [],
   "source": [
    "f1 = spark.read.format(\"csv\").option(\"header\", \"true\").option(\"inferSchema\",\"true\").load(\"/mnt/walmartdata/raw-data/features.csv\")\n",
    "s1 = spark.read.format(\"csv\").option(\"header\",\"true\").option(\"inferSchema\",\"true\").load(\"/mnt/walmartdata/raw-data/stores.csv\")\n",
    "tr1 = spark.read.format(\"csv\").option(\"header\",\"true\").option(\"inferSchema\",\"true\").load(\"/mnt/walmartdata/raw-data/train.csv\")"
   ]
  },
  {
   "cell_type": "code",
   "execution_count": 0,
   "metadata": {
    "application/vnd.databricks.v1+cell": {
     "cellMetadata": {
      "byteLimit": 2048000,
      "rowLimit": 10000
     },
     "inputWidgets": {},
     "nuid": "c741cf2f-a532-4299-be16-aea737cd903f",
     "showTitle": false,
     "tableResultSettingsMap": {},
     "title": ""
    }
   },
   "outputs": [
    {
     "name": "stdout",
     "output_type": "stream",
     "text": [
      "+-----+----------+-----------+----------+---------+---------+---------+---------+---------+-----------+------------+---------+\n",
      "|Store|      Date|Temperature|Fuel_Price|MarkDown1|MarkDown2|MarkDown3|MarkDown4|MarkDown5|        CPI|Unemployment|IsHoliday|\n",
      "+-----+----------+-----------+----------+---------+---------+---------+---------+---------+-----------+------------+---------+\n",
      "|    1|2010-02-05|      42.31|     2.572|       NA|       NA|       NA|       NA|       NA|211.0963582|       8.106|    false|\n",
      "|    1|2010-02-12|      38.51|     2.548|       NA|       NA|       NA|       NA|       NA|211.2421698|       8.106|     true|\n",
      "|    1|2010-02-19|      39.93|     2.514|       NA|       NA|       NA|       NA|       NA|211.2891429|       8.106|    false|\n",
      "|    1|2010-02-26|      46.63|     2.561|       NA|       NA|       NA|       NA|       NA|211.3196429|       8.106|    false|\n",
      "|    1|2010-03-05|       46.5|     2.625|       NA|       NA|       NA|       NA|       NA|211.3501429|       8.106|    false|\n",
      "|    1|2010-03-12|      57.79|     2.667|       NA|       NA|       NA|       NA|       NA|211.3806429|       8.106|    false|\n",
      "|    1|2010-03-19|      54.58|      2.72|       NA|       NA|       NA|       NA|       NA| 211.215635|       8.106|    false|\n",
      "|    1|2010-03-26|      51.45|     2.732|       NA|       NA|       NA|       NA|       NA|211.0180424|       8.106|    false|\n",
      "|    1|2010-04-02|      62.27|     2.719|       NA|       NA|       NA|       NA|       NA|210.8204499|       7.808|    false|\n",
      "|    1|2010-04-09|      65.86|      2.77|       NA|       NA|       NA|       NA|       NA|210.6228574|       7.808|    false|\n",
      "|    1|2010-04-16|      66.32|     2.808|       NA|       NA|       NA|       NA|       NA|   210.4887|       7.808|    false|\n",
      "|    1|2010-04-23|      64.84|     2.795|       NA|       NA|       NA|       NA|       NA|210.4391228|       7.808|    false|\n",
      "|    1|2010-04-30|      67.41|      2.78|       NA|       NA|       NA|       NA|       NA|210.3895456|       7.808|    false|\n",
      "|    1|2010-05-07|      72.55|     2.835|       NA|       NA|       NA|       NA|       NA|210.3399684|       7.808|    false|\n",
      "|    1|2010-05-14|      74.78|     2.854|       NA|       NA|       NA|       NA|       NA|210.3374261|       7.808|    false|\n",
      "|    1|2010-05-21|      76.44|     2.826|       NA|       NA|       NA|       NA|       NA|210.6170934|       7.808|    false|\n",
      "|    1|2010-05-28|      80.44|     2.759|       NA|       NA|       NA|       NA|       NA|210.8967606|       7.808|    false|\n",
      "|    1|2010-06-04|      80.69|     2.705|       NA|       NA|       NA|       NA|       NA|211.1764278|       7.808|    false|\n",
      "|    1|2010-06-11|      80.43|     2.668|       NA|       NA|       NA|       NA|       NA|211.4560951|       7.808|    false|\n",
      "|    1|2010-06-18|      84.11|     2.637|       NA|       NA|       NA|       NA|       NA|211.4537719|       7.808|    false|\n",
      "+-----+----------+-----------+----------+---------+---------+---------+---------+---------+-----------+------------+---------+\n",
      "only showing top 20 rows\n",
      "\n"
     ]
    }
   ],
   "source": [
    "f1.show()"
   ]
  },
  {
   "cell_type": "markdown",
   "metadata": {
    "application/vnd.databricks.v1+cell": {
     "cellMetadata": {
      "byteLimit": 2048000,
      "rowLimit": 10000
     },
     "inputWidgets": {},
     "nuid": "f42a3e0f-ae68-480a-83d5-d04639864283",
     "showTitle": false,
     "tableResultSettingsMap": {},
     "title": ""
    }
   },
   "source": [
    "Below we are type casting the correct datatypes since even after infer_schema =True data types were considered wrong"
   ]
  },
  {
   "cell_type": "code",
   "execution_count": 0,
   "metadata": {
    "application/vnd.databricks.v1+cell": {
     "cellMetadata": {
      "byteLimit": 2048000,
      "rowLimit": 10000
     },
     "inputWidgets": {},
     "nuid": "31337f04-ac97-4813-b0df-143c17ad8464",
     "showTitle": false,
     "tableResultSettingsMap": {},
     "title": ""
    }
   },
   "outputs": [],
   "source": []
  },
  {
   "cell_type": "code",
   "execution_count": 0,
   "metadata": {
    "application/vnd.databricks.v1+cell": {
     "cellMetadata": {
      "byteLimit": 2048000,
      "rowLimit": 10000
     },
     "inputWidgets": {},
     "nuid": "5fa47af4-9856-4f7c-b853-5c1239ac66c1",
     "showTitle": false,
     "tableResultSettingsMap": {},
     "title": ""
    }
   },
   "outputs": [
    {
     "name": "stdout",
     "output_type": "stream",
     "text": [
      "root\n",
      " |-- Store: integer (nullable = true)\n",
      " |-- Date: date (nullable = true)\n",
      " |-- Temperature: float (nullable = true)\n",
      " |-- Fuel_Price: double (nullable = true)\n",
      " |-- MarkDown1: float (nullable = true)\n",
      " |-- MarkDown2: float (nullable = true)\n",
      " |-- MarkDown3: float (nullable = true)\n",
      " |-- MarkDown4: float (nullable = true)\n",
      " |-- MarkDown5: float (nullable = true)\n",
      " |-- CPI: float (nullable = true)\n",
      " |-- Unemployment: float (nullable = true)\n",
      " |-- IsHoliday: string (nullable = true)\n",
      "\n"
     ]
    }
   ],
   "source": [
    "#Typecasting data type since even after infer_schema =True data types were considered wrong\n",
    "\n",
    "f1 = f1.withColumn(\"Store\",col(\"Store\").cast(\"Integer\"))\n",
    "f1 = f1.withColumn(\"Date\",col(\"Date\").cast(\"Date\"))\n",
    "f1 = f1.withColumn(\"Temperature\",col(\"Temperature\").cast(\"Float\"))\n",
    "\n",
    "f1 = f1.withColumn(\"MarkDown1\",col(\"MarkDown1\").cast(\"Float\"))\n",
    "f1 = f1.withColumn(\"MarkDown2\",col(\"MarkDown2\").cast(\"Float\"))\n",
    "f1 = f1.withColumn(\"MarkDown3\",col(\"MarkDown3\").cast(\"Float\"))\n",
    "f1 = f1.withColumn(\"MarkDown4\",col(\"MarkDown4\").cast(\"Float\"))\n",
    "f1 = f1.withColumn(\"MarkDown5\",col(\"MarkDown5\").cast(\"Float\"))\n",
    "f1 = f1.withColumn(\"CPI\",col(\"CPI\").cast(\"Float\"))\n",
    "f1 = f1.withColumn(\"Unemployment\",col(\"Unemployment\").cast(\"Float\"))\n",
    "f1 = f1.withColumn(\"IsHoliday\",col(\"IsHoliday\").cast(\"String\"))\n",
    "f1.printSchema()"
   ]
  },
  {
   "cell_type": "markdown",
   "metadata": {
    "application/vnd.databricks.v1+cell": {
     "cellMetadata": {
      "byteLimit": 2048000,
      "rowLimit": 10000
     },
     "inputWidgets": {},
     "nuid": "2c666466-30a2-4cbc-b81a-f76eb43ea901",
     "showTitle": false,
     "tableResultSettingsMap": {},
     "title": ""
    }
   },
   "source": [
    "Lets find out the Number of null values in each column of Markdown1 - 5"
   ]
  },
  {
   "cell_type": "code",
   "execution_count": 0,
   "metadata": {
    "application/vnd.databricks.v1+cell": {
     "cellMetadata": {
      "byteLimit": 2048000,
      "rowLimit": 10000
     },
     "inputWidgets": {},
     "nuid": "94f3b99c-0153-434e-8e16-91431805ae5f",
     "showTitle": false,
     "tableResultSettingsMap": {},
     "title": ""
    }
   },
   "outputs": [
    {
     "name": "stdout",
     "output_type": "stream",
     "text": [
      "4158 5269 4577 4726 4140\n"
     ]
    }
   ],
   "source": [
    "# finding number of Null values in MarkDown1-5\n",
    "print(f1.where((f1.MarkDown1.isNull())).count(),\n",
    "f1.where((f1.MarkDown2.isNull())).count(),\n",
    "f1.where((f1.MarkDown3.isNull())).count(),\n",
    "f1.where((f1.MarkDown4.isNull())).count(),\n",
    "f1.where((f1.MarkDown5.isNull())).count())"
   ]
  },
  {
   "cell_type": "markdown",
   "metadata": {
    "application/vnd.databricks.v1+cell": {
     "cellMetadata": {
      "byteLimit": 2048000,
      "rowLimit": 10000
     },
     "inputWidgets": {},
     "nuid": "52c00494-2f78-473c-baff-3836afdacc3d",
     "showTitle": false,
     "tableResultSettingsMap": {},
     "title": ""
    }
   },
   "source": [
    "Finding Mean values per column to be filled in Null values"
   ]
  },
  {
   "cell_type": "code",
   "execution_count": 0,
   "metadata": {
    "application/vnd.databricks.v1+cell": {
     "cellMetadata": {
      "byteLimit": 2048000,
      "rowLimit": 10000
     },
     "inputWidgets": {},
     "nuid": "228c4f76-27af-409a-a41d-07f4f3682da6",
     "showTitle": false,
     "tableResultSettingsMap": {},
     "title": ""
    }
   },
   "outputs": [
    {
     "name": "stdout",
     "output_type": "stream",
     "text": [
      "7032.371786093377\n",
      "3384.176592808865\n",
      "1760.100175767131\n",
      "3292.9358917338986\n"
     ]
    }
   ],
   "source": [
    "# Finding Mean values in each column\n",
    "m1_mean = f1.select(mean(\"MarkDown1\")).collect()[0][0]\n",
    "\n",
    "m2_mean = f1.select(mean(\"MarkDown2\")).collect()[0][0]\n",
    "m3_mean = f1.select(mean(\"MarkDown3\")).collect()[0][0]\n",
    "m4_mean = f1.select(mean(\"MarkDown4\")).collect()[0][0]\n",
    "m5_mean = f1.select(mean(\"MarkDown5\")).collect()[0][0]\n",
    "print(m1_mean)\n",
    "print(m2_mean)\n",
    "print(m3_mean)\n",
    "print(m4_mean)"
   ]
  },
  {
   "cell_type": "markdown",
   "metadata": {
    "application/vnd.databricks.v1+cell": {
     "cellMetadata": {
      "byteLimit": 2048000,
      "rowLimit": 10000
     },
     "inputWidgets": {},
     "nuid": "d7f73472-ad99-4dad-a94e-da14721fdb70",
     "showTitle": false,
     "tableResultSettingsMap": {},
     "title": ""
    }
   },
   "source": [
    "Filling Null values with Mean per column"
   ]
  },
  {
   "cell_type": "code",
   "execution_count": 0,
   "metadata": {
    "application/vnd.databricks.v1+cell": {
     "cellMetadata": {
      "byteLimit": 2048000,
      "rowLimit": 10000
     },
     "inputWidgets": {},
     "nuid": "c170c4ff-2722-4660-aa74-91da9d70ed7a",
     "showTitle": false,
     "tableResultSettingsMap": {},
     "title": ""
    }
   },
   "outputs": [],
   "source": [
    "f1=f1.fillna({\"MarkDown1\":m1_mean})\n",
    "f1=f1.fillna({\"MarkDown2\":m2_mean})\n",
    "f1=f1.fillna({\"MarkDown3\":m3_mean})\n",
    "f1=f1.fillna({\"MarkDown4\":m4_mean})\n",
    "f1=f1.fillna({\"MarkDown5\":m5_mean})"
   ]
  },
  {
   "cell_type": "code",
   "execution_count": 0,
   "metadata": {
    "application/vnd.databricks.v1+cell": {
     "cellMetadata": {
      "byteLimit": 2048000,
      "rowLimit": 10000
     },
     "inputWidgets": {},
     "nuid": "11d1481a-3521-4c77-a58d-0f852fd4117b",
     "showTitle": false,
     "tableResultSettingsMap": {},
     "title": ""
    }
   },
   "outputs": [
    {
     "name": "stdout",
     "output_type": "stream",
     "text": [
      "0 0 0 0 0\n"
     ]
    }
   ],
   "source": [
    "# Checking number of Null values after process in MarkDown1-5\n",
    "print(f1.where((f1.MarkDown1.isNull())).count(),\n",
    "f1.where((f1.MarkDown2.isNull())).count(),\n",
    "f1.where((f1.MarkDown3.isNull())).count(),\n",
    "f1.where((f1.MarkDown4.isNull())).count(),\n",
    "f1.where((f1.MarkDown5.isNull())).count())"
   ]
  },
  {
   "cell_type": "markdown",
   "metadata": {
    "application/vnd.databricks.v1+cell": {
     "cellMetadata": {
      "byteLimit": 2048000,
      "rowLimit": 10000
     },
     "inputWidgets": {},
     "nuid": "efd6a326-d718-4431-b8cf-be2deb23d36d",
     "showTitle": false,
     "tableResultSettingsMap": {},
     "title": ""
    }
   },
   "source": [
    "We have identified null values in Markdown1 - 5 columns and replaced it with mean value of specific columns "
   ]
  },
  {
   "cell_type": "markdown",
   "metadata": {
    "application/vnd.databricks.v1+cell": {
     "cellMetadata": {
      "byteLimit": 2048000,
      "rowLimit": 10000
     },
     "inputWidgets": {},
     "nuid": "0cfa0266-ba7c-4e6a-b1b8-be536edd3bbf",
     "showTitle": false,
     "tableResultSettingsMap": {},
     "title": ""
    }
   },
   "source": [
    "Now Lets check if Date column is in the \"yyyy-MM-dd\""
   ]
  },
  {
   "cell_type": "code",
   "execution_count": 0,
   "metadata": {
    "application/vnd.databricks.v1+cell": {
     "cellMetadata": {
      "byteLimit": 2048000,
      "rowLimit": 10000
     },
     "inputWidgets": {},
     "nuid": "df8812d2-35ae-4b0e-b3a8-5bda6a7332ea",
     "showTitle": false,
     "tableResultSettingsMap": {},
     "title": ""
    }
   },
   "outputs": [
    {
     "name": "stdout",
     "output_type": "stream",
     "text": [
      "+----------+\n",
      "|      Date|\n",
      "+----------+\n",
      "|2010-02-05|\n",
      "|2010-02-12|\n",
      "|2010-02-19|\n",
      "|2010-02-26|\n",
      "|2010-03-05|\n",
      "|2010-03-12|\n",
      "|2010-03-19|\n",
      "|2010-03-26|\n",
      "|2010-04-02|\n",
      "|2010-04-09|\n",
      "|2010-04-16|\n",
      "|2010-04-23|\n",
      "|2010-04-30|\n",
      "|2010-05-07|\n",
      "|2010-05-14|\n",
      "|2010-05-21|\n",
      "|2010-05-28|\n",
      "|2010-06-04|\n",
      "|2010-06-11|\n",
      "|2010-06-18|\n",
      "+----------+\n",
      "only showing top 20 rows\n",
      "\n"
     ]
    }
   ],
   "source": [
    "f1.select(\"Date\").show()"
   ]
  },
  {
   "cell_type": "markdown",
   "metadata": {
    "application/vnd.databricks.v1+cell": {
     "cellMetadata": {
      "byteLimit": 2048000,
      "rowLimit": 10000
     },
     "inputWidgets": {},
     "nuid": "63a71962-3fba-4e6a-9854-32c756f0e2db",
     "showTitle": false,
     "tableResultSettingsMap": {},
     "title": ""
    }
   },
   "source": [
    "Hence no format changing needed for date column,\n",
    "Now we will calculate a 4-Week Moving Average for the train.csv file to make forecasting easy in Dashboard graphs"
   ]
  },
  {
   "cell_type": "code",
   "execution_count": 0,
   "metadata": {
    "application/vnd.databricks.v1+cell": {
     "cellMetadata": {
      "byteLimit": 2048000,
      "rowLimit": 10000
     },
     "inputWidgets": {},
     "nuid": "ccbfac1d-5460-4922-bb91-ca333f27c223",
     "showTitle": false,
     "tableResultSettingsMap": {},
     "title": ""
    }
   },
   "outputs": [
    {
     "name": "stdout",
     "output_type": "stream",
     "text": [
      "root\n",
      " |-- Store: integer (nullable = true)\n",
      " |-- Dept: integer (nullable = true)\n",
      " |-- Date: date (nullable = true)\n",
      " |-- Weekly_Sales: float (nullable = true)\n",
      " |-- IsHoliday: boolean (nullable = true)\n",
      "\n"
     ]
    }
   ],
   "source": [
    "tr1 = tr1.withColumn(\"Weekly_Sales\",col(\"Weekly_Sales\").cast(\"Float\"))\n",
    "tr1.printSchema()"
   ]
  },
  {
   "cell_type": "markdown",
   "metadata": {
    "application/vnd.databricks.v1+cell": {
     "cellMetadata": {
      "byteLimit": 2048000,
      "rowLimit": 10000
     },
     "inputWidgets": {},
     "nuid": "75819515-6f1a-42c5-ae85-b1c8ded15ac6",
     "showTitle": false,
     "tableResultSettingsMap": {},
     "title": ""
    }
   },
   "source": [
    "Defining a Window for 4-Week Moving Average (Including Current Row)"
   ]
  },
  {
   "cell_type": "code",
   "execution_count": 0,
   "metadata": {
    "application/vnd.databricks.v1+cell": {
     "cellMetadata": {
      "byteLimit": 2048000,
      "rowLimit": 10000
     },
     "inputWidgets": {},
     "nuid": "f296c0b1-8f5e-4784-bf79-f422ca5718cf",
     "showTitle": false,
     "tableResultSettingsMap": {},
     "title": ""
    }
   },
   "outputs": [],
   "source": [
    "# Define a Window for 4-Week Moving Average (Including Current Row)\n",
    "window_spec = Window.partitionBy(\"Store\", \"Dept\").orderBy(\"Date\").rowsBetween(-3, 0)"
   ]
  },
  {
   "cell_type": "code",
   "execution_count": 0,
   "metadata": {
    "application/vnd.databricks.v1+cell": {
     "cellMetadata": {
      "byteLimit": 2048000,
      "rowLimit": 10000
     },
     "inputWidgets": {},
     "nuid": "b159c087-d233-4dd4-baa3-1680fd4c79f0",
     "showTitle": false,
     "tableResultSettingsMap": {},
     "title": ""
    }
   },
   "outputs": [],
   "source": [
    "# Compute the Weekly Moving Average\n",
    "tr1 = tr1.withColumn(\"4_Week_Moving_Avg\", avg(col(\"Weekly_Sales\")).over(window_spec))\n",
    "tr1 = tr1.withColumn(\"4_Week_Moving_Avg\",col(\"4_Week_Moving_Avg\").cast(\"Float\"))"
   ]
  },
  {
   "cell_type": "code",
   "execution_count": 0,
   "metadata": {
    "application/vnd.databricks.v1+cell": {
     "cellMetadata": {
      "byteLimit": 2048000,
      "rowLimit": 10000
     },
     "inputWidgets": {},
     "nuid": "936b3743-a855-47b6-878c-ce9f0e42b041",
     "showTitle": false,
     "tableResultSettingsMap": {},
     "title": ""
    }
   },
   "outputs": [
    {
     "name": "stdout",
     "output_type": "stream",
     "text": [
      "+-----+----+----------+------------+---------+-----------------+\n",
      "|Store|Dept|      Date|Weekly_Sales|IsHoliday|4_Week_Moving_Avg|\n",
      "+-----+----+----------+------------+---------+-----------------+\n",
      "|    1|   1|2010-02-05|     24924.5|    false|          24924.5|\n",
      "|    1|   1|2010-02-12|    46039.49|     true|        35481.992|\n",
      "|    1|   1|2010-02-19|    41595.55|    false|        37519.848|\n",
      "|    1|   1|2010-02-26|    19403.54|    false|         32990.77|\n",
      "|    1|   1|2010-03-05|     21827.9|    false|         32216.62|\n",
      "|    1|   1|2010-03-12|    21043.39|    false|        25967.596|\n",
      "|    1|   1|2010-03-19|    22136.64|    false|        21102.867|\n",
      "|    1|   1|2010-03-26|    26229.21|    false|        22809.285|\n",
      "|    1|   1|2010-04-02|    57258.43|    false|        31666.918|\n",
      "|    1|   1|2010-04-09|    42960.91|    false|        37146.297|\n",
      "|    1|   1|2010-04-16|    17596.96|    false|         36011.38|\n",
      "|    1|   1|2010-04-23|    16145.35|    false|        33490.414|\n",
      "|    1|   1|2010-04-30|    16555.11|    false|        23314.582|\n",
      "|    1|   1|2010-05-07|    17413.94|    false|         16927.84|\n",
      "|    1|   1|2010-05-14|    18926.74|    false|        17260.285|\n",
      "|    1|   1|2010-05-21|    14773.04|    false|        16917.207|\n",
      "|    1|   1|2010-05-28|    15580.43|    false|        16673.537|\n",
      "|    1|   1|2010-06-04|    17558.09|    false|        16709.574|\n",
      "|    1|   1|2010-06-11|    16637.62|    false|        16137.295|\n",
      "|    1|   1|2010-06-18|    16216.27|    false|        16498.102|\n",
      "+-----+----+----------+------------+---------+-----------------+\n",
      "only showing top 20 rows\n",
      "\n"
     ]
    }
   ],
   "source": [
    "tr1.show()"
   ]
  },
  {
   "cell_type": "code",
   "execution_count": 0,
   "metadata": {
    "application/vnd.databricks.v1+cell": {
     "cellMetadata": {
      "byteLimit": 2048000,
      "rowLimit": 10000
     },
     "inputWidgets": {},
     "nuid": "83cd740e-87ae-4fc5-838c-84cde1668088",
     "showTitle": false,
     "tableResultSettingsMap": {},
     "title": ""
    }
   },
   "outputs": [
    {
     "name": "stdout",
     "output_type": "stream",
     "text": [
      "+-----------------+\n",
      "|min(Weekly_Sales)|\n",
      "+-----------------+\n",
      "|         -4988.94|\n",
      "+-----------------+\n",
      "\n"
     ]
    }
   ],
   "source": [
    "tr1.select(min(\"Weekly_Sales\")).show()"
   ]
  },
  {
   "cell_type": "markdown",
   "metadata": {
    "application/vnd.databricks.v1+cell": {
     "cellMetadata": {
      "byteLimit": 2048000,
      "rowLimit": 10000
     },
     "inputWidgets": {},
     "nuid": "4c236a64-4d37-4224-9bbd-d0c71a541fa0",
     "showTitle": false,
     "tableResultSettingsMap": {},
     "title": ""
    }
   },
   "source": [
    "Aggregating Total_Weekly_Sales, Avg_Weekly_Sales, Max_Weekly_Sales, Min_Weekly_Sales, Total_Transactions per Store to rank top performers as storewise_stats"
   ]
  },
  {
   "cell_type": "code",
   "execution_count": 0,
   "metadata": {
    "application/vnd.databricks.v1+cell": {
     "cellMetadata": {
      "byteLimit": 2048000,
      "rowLimit": 10000
     },
     "inputWidgets": {},
     "nuid": "a7d66dca-21fd-4972-b7f6-220741bea012",
     "showTitle": false,
     "tableResultSettingsMap": {},
     "title": ""
    }
   },
   "outputs": [
    {
     "name": "stdout",
     "output_type": "stream",
     "text": [
      "+-----+------------------+----------------+----------------+----------------+------------------+\n",
      "|Store|Total_Weekly_Sales|Avg_Weekly_Sales|Max_Weekly_Sales|Min_Weekly_Sales|Total_Transactions|\n",
      "+-----+------------------+----------------+----------------+----------------+------------------+\n",
      "|    1|      222402808.88|        21710.54|       203670.47|         -863.00|             10244|\n",
      "|    2|      275382440.86|        26898.07|       285353.53|        -1098.00|             10238|\n",
      "|    3|       57586735.05|         6373.03|       155897.94|        -1008.96|              9036|\n",
      "|    4|      299543953.46|        29161.21|       385051.03|         -898.00|             10272|\n",
      "|    5|       45475688.87|         5053.42|        93517.72|         -101.26|              8999|\n",
      "|    6|      223756130.79|        21913.24|       342578.66|         -698.00|             10211|\n",
      "|    7|       81598275.18|         8358.77|       222921.09|         -459.00|              9762|\n",
      "|    8|      129951181.15|        13133.01|       153431.69|         -100.00|              9895|\n",
      "|    9|       77789219.06|         8772.89|       139427.44|         -496.00|              8867|\n",
      "|   10|      271617713.76|        26332.30|       693099.38|         -798.00|             10315|\n",
      "|   11|      193962786.80|        19276.76|       245767.47|         -594.00|             10062|\n",
      "|   12|      144287230.04|        14867.31|       360140.66|         -598.00|              9705|\n",
      "|   13|      286517703.72|        27355.14|       292165.78|          -98.00|             10474|\n",
      "|   14|      288999911.26|        28784.85|       474330.09|         -498.00|             10040|\n",
      "|   15|       89133683.95|         9002.49|       292555.25|         -179.00|              9901|\n",
      "|   16|       74252425.44|         7863.22|       129372.97|        -1699.00|              9443|\n",
      "|   17|      127782138.72|        12954.39|       194660.52|         -259.00|              9864|\n",
      "|   18|      155114734.11|        15733.31|       353008.63|         -259.00|              9859|\n",
      "|   19|      206634861.96|        20362.13|       339846.03|         -649.00|             10148|\n",
      "|   20|      301397792.45|        29508.30|       422306.25|         -798.00|             10214|\n",
      "+-----+------------------+----------------+----------------+----------------+------------------+\n",
      "only showing top 20 rows\n",
      "\n"
     ]
    }
   ],
   "source": [
    "#grouping Weekly_Sales per Store\n",
    "\n",
    "storewise_stats = (\n",
    "    tr1.groupBy(\"Store\")\n",
    "    .agg(\n",
    "        sum(\"Weekly_Sales\").alias(\"Total_Weekly_Sales\"),\n",
    "        avg(\"Weekly_Sales\").alias(\"Avg_Weekly_Sales\"),\n",
    "        max(\"Weekly_Sales\").alias(\"Max_Weekly_Sales\"),\n",
    "        min(\"Weekly_Sales\").alias(\"Min_Weekly_Sales\"),\n",
    "        count(\"Weekly_Sales\").alias(\"Total_Transactions\")  # Counts number of sales records per store\n",
    "    )\n",
    "    .orderBy(\"Store\")\n",
    "    .withColumn(\"Total_Weekly_Sales\", col(\"Total_Weekly_Sales\").cast(\"decimal(20,2)\"))\n",
    "    .withColumn(\"Avg_Weekly_Sales\", col(\"Avg_Weekly_Sales\").cast(\"decimal(20,2)\"))\n",
    "    .withColumn(\"Max_Weekly_Sales\", col(\"Max_Weekly_Sales\").cast(\"decimal(20,2)\"))\n",
    "    .withColumn(\"Min_Weekly_Sales\", col(\"Min_Weekly_Sales\").cast(\"decimal(20,2)\"))\n",
    ")\n",
    "\n",
    "storewise_stats.show()"
   ]
  },
  {
   "cell_type": "markdown",
   "metadata": {
    "application/vnd.databricks.v1+cell": {
     "cellMetadata": {
      "byteLimit": 2048000,
      "rowLimit": 10000
     },
     "inputWidgets": {},
     "nuid": "6d7ab537-b5e4-45da-9ab7-97bc59b639bc",
     "showTitle": false,
     "tableResultSettingsMap": {},
     "title": ""
    }
   },
   "source": [
    "We are joining Stores.csv to storewise_stats for creating one more df for data analytics and BI reports called Transformedfile1"
   ]
  },
  {
   "cell_type": "code",
   "execution_count": 0,
   "metadata": {
    "application/vnd.databricks.v1+cell": {
     "cellMetadata": {
      "byteLimit": 2048000,
      "rowLimit": 10000
     },
     "inputWidgets": {},
     "nuid": "f1f3a197-4c56-4432-b93c-cc75d1ac4f04",
     "showTitle": false,
     "tableResultSettingsMap": {},
     "title": ""
    }
   },
   "outputs": [
    {
     "name": "stdout",
     "output_type": "stream",
     "text": [
      "+-----+------------------+----------------+----------------+----------------+------------------+----+------+\n",
      "|Store|Total_Weekly_Sales|Avg_Weekly_Sales|Max_Weekly_Sales|Min_Weekly_Sales|Total_Transactions|Type|  Size|\n",
      "+-----+------------------+----------------+----------------+----------------+------------------+----+------+\n",
      "|   12|      144287230.04|        14867.31|       360140.66|         -598.00|              9705|   B|112238|\n",
      "|    1|      222402808.88|        21710.54|       203670.47|         -863.00|             10244|   A|151315|\n",
      "|   13|      286517703.72|        27355.14|       292165.78|          -98.00|             10474|   A|219622|\n",
      "|    6|      223756130.79|        21913.24|       342578.66|         -698.00|             10211|   A|202505|\n",
      "|    3|       57586735.05|         6373.03|       155897.94|        -1008.96|              9036|   B| 37392|\n",
      "|    5|       45475688.87|         5053.42|        93517.72|         -101.26|              8999|   B| 34875|\n",
      "|   15|       89133683.95|         9002.49|       292555.25|         -179.00|              9901|   B|123737|\n",
      "|    9|       77789219.06|         8772.89|       139427.44|         -496.00|              8867|   B|125833|\n",
      "|    4|      299543953.46|        29161.21|       385051.03|         -898.00|             10272|   A|205863|\n",
      "|    8|      129951181.15|        13133.01|       153431.69|         -100.00|              9895|   A|155078|\n",
      "|    7|       81598275.18|         8358.77|       222921.09|         -459.00|              9762|   B| 70713|\n",
      "|   10|      271617713.76|        26332.30|       693099.38|         -798.00|             10315|   B|126512|\n",
      "|   11|      193962786.80|        19276.76|       245767.47|         -594.00|             10062|   A|207499|\n",
      "|   14|      288999911.26|        28784.85|       474330.09|         -498.00|             10040|   A|200898|\n",
      "|    2|      275382440.86|        26898.07|       285353.53|        -1098.00|             10238|   A|202307|\n",
      "|   28|      189263680.56|        18714.89|       355356.38|        -4988.94|             10113|   A|206302|\n",
      "|   26|      143416393.74|        14554.13|       196615.88|          -79.00|              9854|   A|152513|\n",
      "|   27|      253855917.05|        24826.98|       420586.56|         -409.00|             10225|   A|204184|\n",
      "|   22|      147075648.46|        15181.22|       393705.19|         -175.54|              9688|   B|119557|\n",
      "|   16|       74252425.44|         7863.22|       129372.97|        -1699.00|              9443|   B| 57197|\n",
      "+-----+------------------+----------------+----------------+----------------+------------------+----+------+\n",
      "only showing top 20 rows\n",
      "\n"
     ]
    }
   ],
   "source": [
    "Transformedfile1 = storewise_stats.join(s1, on=\"Store\", how=\"left\")\n",
    "Transformedfile1.show()"
   ]
  },
  {
   "cell_type": "code",
   "execution_count": 0,
   "metadata": {
    "application/vnd.databricks.v1+cell": {
     "cellMetadata": {
      "byteLimit": 2048000,
      "rowLimit": 10000
     },
     "inputWidgets": {},
     "nuid": "f6c005b6-8157-4ca1-b276-bf4bdb529754",
     "showTitle": false,
     "tableResultSettingsMap": {},
     "title": ""
    }
   },
   "outputs": [
    {
     "name": "stdout",
     "output_type": "stream",
     "text": [
      "+-----+----------+---------+-----------+----------+---------+---------+---------+---------+---------+---------+------------+----+------------+-----------------+\n",
      "|Store|      Date|IsHoliday|Temperature|Fuel_Price|MarkDown1|MarkDown2|MarkDown3|MarkDown4|MarkDown5|      CPI|Unemployment|Dept|Weekly_Sales|4_Week_Moving_Avg|\n",
      "+-----+----------+---------+-----------+----------+---------+---------+---------+---------+---------+---------+------------+----+------------+-----------------+\n",
      "|    1|2010-02-05|    false|      42.31|     2.572|7032.3716|3384.1765|1760.1002|3292.9358|4132.2163|211.09636|       8.106|   1|     24924.5|          24924.5|\n",
      "|    1|2010-02-12|     true|      38.51|     2.548|7032.3716|3384.1765|1760.1002|3292.9358|4132.2163|211.24217|       8.106|   1|    46039.49|        35481.992|\n",
      "|    1|2010-02-19|    false|      39.93|     2.514|7032.3716|3384.1765|1760.1002|3292.9358|4132.2163|211.28914|       8.106|   1|    41595.55|        37519.848|\n",
      "|    1|2010-02-26|    false|      46.63|     2.561|7032.3716|3384.1765|1760.1002|3292.9358|4132.2163|211.31964|       8.106|   1|    19403.54|         32990.77|\n",
      "|    1|2010-03-05|    false|       46.5|     2.625|7032.3716|3384.1765|1760.1002|3292.9358|4132.2163|211.35014|       8.106|   1|     21827.9|         32216.62|\n",
      "|    1|2010-03-12|    false|      57.79|     2.667|7032.3716|3384.1765|1760.1002|3292.9358|4132.2163|211.38065|       8.106|   1|    21043.39|        25967.596|\n",
      "|    1|2010-03-19|    false|      54.58|      2.72|7032.3716|3384.1765|1760.1002|3292.9358|4132.2163|211.21564|       8.106|   1|    22136.64|        21102.867|\n",
      "|    1|2010-03-26|    false|      51.45|     2.732|7032.3716|3384.1765|1760.1002|3292.9358|4132.2163|211.01804|       8.106|   1|    26229.21|        22809.285|\n",
      "|    1|2010-04-02|    false|      62.27|     2.719|7032.3716|3384.1765|1760.1002|3292.9358|4132.2163|210.82045|       7.808|   1|    57258.43|        31666.918|\n",
      "|    1|2010-04-09|    false|      65.86|      2.77|7032.3716|3384.1765|1760.1002|3292.9358|4132.2163|210.62286|       7.808|   1|    42960.91|        37146.297|\n",
      "|    1|2010-04-16|    false|      66.32|     2.808|7032.3716|3384.1765|1760.1002|3292.9358|4132.2163| 210.4887|       7.808|   1|    17596.96|         36011.38|\n",
      "|    1|2010-04-23|    false|      64.84|     2.795|7032.3716|3384.1765|1760.1002|3292.9358|4132.2163|210.43912|       7.808|   1|    16145.35|        33490.414|\n",
      "|    1|2010-04-30|    false|      67.41|      2.78|7032.3716|3384.1765|1760.1002|3292.9358|4132.2163|210.38954|       7.808|   1|    16555.11|        23314.582|\n",
      "|    1|2010-05-07|    false|      72.55|     2.835|7032.3716|3384.1765|1760.1002|3292.9358|4132.2163|210.33997|       7.808|   1|    17413.94|         16927.84|\n",
      "|    1|2010-05-14|    false|      74.78|     2.854|7032.3716|3384.1765|1760.1002|3292.9358|4132.2163|210.33743|       7.808|   1|    18926.74|        17260.285|\n",
      "|    1|2010-05-21|    false|      76.44|     2.826|7032.3716|3384.1765|1760.1002|3292.9358|4132.2163| 210.6171|       7.808|   1|    14773.04|        16917.207|\n",
      "|    1|2010-05-28|    false|      80.44|     2.759|7032.3716|3384.1765|1760.1002|3292.9358|4132.2163|210.89676|       7.808|   1|    15580.43|        16673.537|\n",
      "|    1|2010-06-04|    false|      80.69|     2.705|7032.3716|3384.1765|1760.1002|3292.9358|4132.2163|211.17642|       7.808|   1|    17558.09|        16709.574|\n",
      "|    1|2010-06-11|    false|      80.43|     2.668|7032.3716|3384.1765|1760.1002|3292.9358|4132.2163| 211.4561|       7.808|   1|    16637.62|        16137.295|\n",
      "|    1|2010-06-18|    false|      84.11|     2.637|7032.3716|3384.1765|1760.1002|3292.9358|4132.2163|211.45377|       7.808|   1|    16216.27|        16498.102|\n",
      "+-----+----------+---------+-----------+----------+---------+---------+---------+---------+---------+---------+------------+----+------------+-----------------+\n",
      "only showing top 20 rows\n",
      "\n"
     ]
    }
   ],
   "source": [
    "f1_tr1_join = f1.join(tr1, [\"Store\", \"Date\",\"IsHoliday\"], \"inner\")\n",
    "f1_tr1_join.show()"
   ]
  },
  {
   "cell_type": "code",
   "execution_count": 0,
   "metadata": {
    "application/vnd.databricks.v1+cell": {
     "cellMetadata": {
      "byteLimit": 2048000,
      "rowLimit": 10000
     },
     "inputWidgets": {},
     "nuid": "48df302f-461d-466e-ab5d-72e898295859",
     "showTitle": false,
     "tableResultSettingsMap": {},
     "title": ""
    }
   },
   "outputs": [
    {
     "data": {
      "text/plain": [
       "['Store',\n",
       " 'Date',\n",
       " 'IsHoliday',\n",
       " 'Temperature',\n",
       " 'Fuel_Price',\n",
       " 'MarkDown1',\n",
       " 'MarkDown2',\n",
       " 'MarkDown3',\n",
       " 'MarkDown4',\n",
       " 'MarkDown5',\n",
       " 'CPI',\n",
       " 'Unemployment',\n",
       " 'Dept',\n",
       " 'Weekly_Sales',\n",
       " '4_Week_Moving_Avg']"
      ]
     },
     "execution_count": 53,
     "metadata": {},
     "output_type": "execute_result"
    }
   ],
   "source": [
    "f1_tr1_join.schema.names\n",
    "#Transformedfile1.schema.names"
   ]
  },
  {
   "cell_type": "markdown",
   "metadata": {
    "application/vnd.databricks.v1+cell": {
     "cellMetadata": {
      "byteLimit": 2048000,
      "rowLimit": 10000
     },
     "inputWidgets": {},
     "nuid": "4e760883-e9c0-4252-bab5-632667711cef",
     "showTitle": false,
     "tableResultSettingsMap": {},
     "title": ""
    }
   },
   "source": [
    "Saving the transformed data frames as csv files: \n",
    "\n",
    "f1_tr1_join as joined_data.csv, \n",
    "Transformedfile1 as store_wise_stats.csv\n"
   ]
  },
  {
   "cell_type": "code",
   "execution_count": 0,
   "metadata": {
    "application/vnd.databricks.v1+cell": {
     "cellMetadata": {
      "byteLimit": 2048000,
      "rowLimit": 10000
     },
     "inputWidgets": {},
     "nuid": "18b3fbc5-756a-4eb2-a8b4-f8899e8d6f94",
     "showTitle": false,
     "tableResultSettingsMap": {},
     "title": ""
    }
   },
   "outputs": [],
   "source": [
    "# Write Transformedfile1 to CSV\n",
    "Transformedfile1.repartition(1).write.option(\"header\", \"true\").mode(\"overwrite\").csv(\"/mnt/walmartdata/transformed-data/store_wise_stats\")\n",
    "\n",
    "# Write f1_tr1_join to CSV\n",
    "f1_tr1_join.repartition(1).write.option(\"header\", \"true\").mode(\"overwrite\").csv(\"/mnt/walmartdata/transformed-data/joined_data\")\n"
   ]
  },
  {
   "cell_type": "code",
   "execution_count": 0,
   "metadata": {
    "application/vnd.databricks.v1+cell": {
     "cellMetadata": {
      "byteLimit": 2048000,
      "rowLimit": 10000
     },
     "inputWidgets": {},
     "nuid": "13fade24-034e-4ed8-936e-fc947bf9bb57",
     "showTitle": false,
     "tableResultSettingsMap": {},
     "title": ""
    }
   },
   "outputs": [],
   "source": []
  }
 ],
 "metadata": {
  "application/vnd.databricks.v1+notebook": {
   "computePreferences": null,
   "dashboards": [],
   "environmentMetadata": {
    "base_environment": "",
    "environment_version": "2"
   },
   "language": "python",
   "notebookMetadata": {
    "mostRecentlyExecutedCommandWithImplicitDF": {
     "commandId": 8141555986558105,
     "dataframes": [
      "_sqldf"
     ]
    },
    "pythonIndentUnit": 4
   },
   "notebookName": "walmart data transformation",
   "widgets": {}
  },
  "language_info": {
   "name": "python"
  }
 },
 "nbformat": 4,
 "nbformat_minor": 0
}
